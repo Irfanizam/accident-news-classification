{
 "cells": [
  {
   "cell_type": "markdown",
   "metadata": {},
   "source": [
    "## 2nd step arrange data to get more accuracy"
   ]
  },
  {
   "cell_type": "code",
   "execution_count": 1,
   "metadata": {},
   "outputs": [],
   "source": [
    "import pandas as pd\n",
    "import json"
   ]
  },
  {
   "cell_type": "code",
   "execution_count": 2,
   "metadata": {},
   "outputs": [],
   "source": [
    "# Read the data from the CSV file\n",
    "# dt_arr = data_arrange\n",
    "dt_arr = pd.read_csv('C:/Users/irfanizam/workspace/FYP-Example/FinalFinalFYP/Data2/CleanedLt.csv')"
   ]
  },
  {
   "cell_type": "code",
   "execution_count": 3,
   "metadata": {},
   "outputs": [],
   "source": [
    "x = dt_arr['tag']\n",
    "y = dt_arr['summary']"
   ]
  },
  {
   "cell_type": "code",
   "execution_count": 4,
   "metadata": {},
   "outputs": [],
   "source": [
    "# dt_lt_arr = data long text arrange\n",
    "# pre_arr_dt_lt = pre arrange data long text\n",
    "selected_columns = ['tag', 'summary']  \n",
    "dt_lt_arr = dt_arr[selected_columns]\n",
    "dt_lt_arr.to_csv('C:/Users/irfanizam/workspace/FYP-Example/FinalFinalFyp/Data2/pre_arr_dt_lt.csv', index=False) "
   ]
  },
  {
   "cell_type": "code",
   "execution_count": 5,
   "metadata": {},
   "outputs": [],
   "source": [
    "multiclass_lt = pd.read_csv('C:/Users/irfanizam/workspace/FYP-Example/FinalFinalFyp/Data2/pre_arr_dt_lt.csv')"
   ]
  },
  {
   "cell_type": "code",
   "execution_count": 6,
   "metadata": {},
   "outputs": [],
   "source": [
    "multiclass_lt = pd.get_dummies(multiclass_lt, columns=['tag'], prefix='', prefix_sep='')"
   ]
  },
  {
   "cell_type": "code",
   "execution_count": 7,
   "metadata": {},
   "outputs": [
    {
     "name": "stdout",
     "output_type": "stream",
     "text": [
      "Index(['summary', '1', '2', '3', '4', '5', '6', '7'], dtype='object')\n"
     ]
    }
   ],
   "source": [
    "print(multiclass_lt.columns)"
   ]
  },
  {
   "cell_type": "code",
   "execution_count": 8,
   "metadata": {},
   "outputs": [],
   "source": [
    "multiclass_lt = multiclass_lt.groupby('summary').max().reset_index()"
   ]
  },
  {
   "cell_type": "code",
   "execution_count": 9,
   "metadata": {},
   "outputs": [],
   "source": [
    "multiclass_lt.to_csv('C:/Users/irfanizam/workspace/FYP-Example/FinalFinalFyp/Data2/ArrangedLt.csv', index=False)  "
   ]
  },
  {
   "cell_type": "code",
   "execution_count": null,
   "metadata": {},
   "outputs": [],
   "source": []
  }
 ],
 "metadata": {
  "kernelspec": {
   "display_name": "Python 3",
   "language": "python",
   "name": "python3"
  },
  "language_info": {
   "codemirror_mode": {
    "name": "ipython",
    "version": 3
   },
   "file_extension": ".py",
   "mimetype": "text/x-python",
   "name": "python",
   "nbconvert_exporter": "python",
   "pygments_lexer": "ipython3",
   "version": "3.12.0"
  }
 },
 "nbformat": 4,
 "nbformat_minor": 2
}
