{
 "cells": [
  {
   "cell_type": "markdown",
   "metadata": {},
   "source": [
    "# 1st Step Clean and Preprocess"
   ]
  },
  {
   "cell_type": "code",
   "execution_count": 1,
   "metadata": {},
   "outputs": [],
   "source": [
    "import pandas as pd\n",
    "import nltk\n",
    "from nltk.corpus import stopwords\n",
    "from nltk.stem import PorterStemmer, SnowballStemmer, LancasterStemmer\n",
    "from nltk.tokenize import word_tokenize\n",
    "from sklearn.feature_extraction.text import CountVectorizer\n",
    "import re"
   ]
  },
  {
   "cell_type": "code",
   "execution_count": 2,
   "metadata": {},
   "outputs": [
    {
     "name": "stderr",
     "output_type": "stream",
     "text": [
      "[nltk_data] Downloading package punkt to\n",
      "[nltk_data]     C:\\Users\\irfanizam\\AppData\\Roaming\\nltk_data...\n",
      "[nltk_data]   Package punkt is already up-to-date!\n",
      "[nltk_data] Downloading package stopwords to\n",
      "[nltk_data]     C:\\Users\\irfanizam\\AppData\\Roaming\\nltk_data...\n",
      "[nltk_data]   Package stopwords is already up-to-date!\n"
     ]
    },
    {
     "data": {
      "text/plain": [
       "True"
      ]
     },
     "execution_count": 2,
     "metadata": {},
     "output_type": "execute_result"
    }
   ],
   "source": [
    "nltk.download('punkt')\n",
    "nltk.download('stopwords')"
   ]
  },
  {
   "cell_type": "code",
   "execution_count": 3,
   "metadata": {},
   "outputs": [],
   "source": [
    "# Load CSV file long text\n",
    "# df_lt = dataframe_longtext\n",
    "longtext_path = '../Data2/LongText.csv'\n",
    "df_lt = pd.read_csv(longtext_path)"
   ]
  },
  {
   "cell_type": "code",
   "execution_count": 4,
   "metadata": {},
   "outputs": [],
   "source": [
    "# Col selected\n",
    "# lt_col = ['summary', 'tag']"
   ]
  },
  {
   "cell_type": "code",
   "execution_count": 5,
   "metadata": {},
   "outputs": [],
   "source": [
    "# lt_selected = df_lt[lt_col].copy()"
   ]
  },
  {
   "cell_type": "code",
   "execution_count": 6,
   "metadata": {},
   "outputs": [],
   "source": [
    "# # Preprocess lt_selected which is long text summary column\n",
    "# def preprocess_text(summary):\n",
    "#     # Convert to lowercase\n",
    "#     summary = summary.lower()\n",
    "\n",
    "#     # Remove special characters and numbers\n",
    "#     summary = re.sub(r'[^a-zA-Z\\s]', '', summary)\n",
    "\n",
    "#     # Tokenization\n",
    "#     tokens = word_tokenize(summary)\n",
    "\n",
    "#     # Remove stopwords\n",
    "#     stop_words = set(stopwords.words('english'))\n",
    "#     filtered_tokens = [word for word in tokens if word.isalnum() and word not in stop_words]\n",
    "\n",
    "#     # Porter Stemmer\n",
    "#     porter_stemmer = PorterStemmer()\n",
    "#     stemmed_tokens = [porter_stemmer.stem(word) for word in filtered_tokens]\n",
    "\n",
    "#     return stemmed_tokens\n",
    "\n",
    "# # Apply the preprocessing function to lt_summary column\n",
    "# # new_lt = New Long Text\n",
    "# lt_selected['new_lt'] = lt_selected['summary'].apply(preprocess_text)"
   ]
  },
  {
   "cell_type": "markdown",
   "metadata": {},
   "source": [
    "## Test pakai 1 line cleaning utk buang tokenization"
   ]
  },
  {
   "cell_type": "code",
   "execution_count": 7,
   "metadata": {},
   "outputs": [],
   "source": [
    "df_lt['summary'] = df_lt['summary'].apply(lambda x: ' '.join([word.lower() for word in word_tokenize(x) if word.isalpha() and word not in stopwords.words('english')]))"
   ]
  },
  {
   "cell_type": "markdown",
   "metadata": {},
   "source": [
    "## Sambung balik sini"
   ]
  },
  {
   "cell_type": "code",
   "execution_count": 8,
   "metadata": {},
   "outputs": [],
   "source": [
    "# Save the selected and preprocessed DF to CSV\n",
    "out_file_path = '../Data2/CleanedLt.csv'\n",
    "df_lt.to_csv(out_file_path, index=False)"
   ]
  },
  {
   "cell_type": "code",
   "execution_count": 9,
   "metadata": {},
   "outputs": [],
   "source": [
    "# Snowball Stemmer\n",
    "# snowball_stemmer = SnowballStemmer('english')\n",
    "# df_lt['snowball_stemmed_tokens'] = df_lt['filtered_tokens'].apply(lambda x: [snowball_stemmer.stem(word) for word in x])"
   ]
  },
  {
   "cell_type": "code",
   "execution_count": 10,
   "metadata": {},
   "outputs": [],
   "source": [
    "# Lancaster Stemmer\n",
    "# lancaster_stemmer = LancasterStemmer()\n",
    "# df_lt['lancaster_stemmed_tokens'] = df_lt['filtered_tokens'].apply(lambda x: [lancaster_stemmer.stem(word) for word in x])"
   ]
  },
  {
   "cell_type": "code",
   "execution_count": null,
   "metadata": {},
   "outputs": [],
   "source": []
  }
 ],
 "metadata": {
  "kernelspec": {
   "display_name": "Python 3",
   "language": "python",
   "name": "python3"
  },
  "language_info": {
   "codemirror_mode": {
    "name": "ipython",
    "version": 3
   },
   "file_extension": ".py",
   "mimetype": "text/x-python",
   "name": "python",
   "nbconvert_exporter": "python",
   "pygments_lexer": "ipython3",
   "version": "3.11.7"
  }
 },
 "nbformat": 4,
 "nbformat_minor": 2
}
