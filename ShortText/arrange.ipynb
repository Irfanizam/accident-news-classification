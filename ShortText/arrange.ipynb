{
 "cells": [
  {
   "cell_type": "markdown",
   "metadata": {},
   "source": [
    "## 2nd step arrange data to get more accuracy"
   ]
  },
  {
   "cell_type": "code",
   "execution_count": 1,
   "metadata": {},
   "outputs": [],
   "source": [
    "import pandas as pd\n",
    "import json"
   ]
  },
  {
   "cell_type": "code",
   "execution_count": 3,
   "metadata": {},
   "outputs": [],
   "source": [
    "# Read the data from the CSV file\n",
    "# dt_arr = data_arrange\n",
    "dt_arr = pd.read_csv('C:/Users/irfanizam/workspace/FYP-Example/FinalFinalFYP/Data1/CleanedSt.csv')"
   ]
  },
  {
   "cell_type": "code",
   "execution_count": 4,
   "metadata": {},
   "outputs": [],
   "source": [
    "x = dt_arr['tweet']\n",
    "y = dt_arr['relation']"
   ]
  },
  {
   "cell_type": "code",
   "execution_count": 5,
   "metadata": {},
   "outputs": [],
   "source": [
    "# dt_st_arr = data short text arrange\n",
    "# pre_arr_dt_st = pre arrange data short text\n",
    "selected_columns = ['relation', 'tweet']\n",
    "dt_st_arr = dt_arr[selected_columns]\n",
    "dt_st_arr.to_csv('C:/Users/irfanizam/workspace/FYP-Example/FinalFinalFyp/Data1/pre_arr_dt_st.csv', index=False) "
   ]
  },
  {
   "cell_type": "code",
   "execution_count": 7,
   "metadata": {},
   "outputs": [],
   "source": [
    "multiclass_st = pd.read_csv('C:/Users/irfanizam/workspace/FYP-Example/FinalFinalFyp/Data1/pre_arr_dt_st.csv')"
   ]
  },
  {
   "cell_type": "code",
   "execution_count": 10,
   "metadata": {},
   "outputs": [],
   "source": [
    "multiclass_st = pd.get_dummies(multiclass_st, columns=['relation'], prefix='', prefix_sep='')"
   ]
  },
  {
   "cell_type": "code",
   "execution_count": 11,
   "metadata": {},
   "outputs": [
    {
     "name": "stdout",
     "output_type": "stream",
     "text": [
      "Index(['tweet', '0', '1', '2'], dtype='object')\n"
     ]
    }
   ],
   "source": [
    "print(multiclass_st.columns)"
   ]
  },
  {
   "cell_type": "code",
   "execution_count": 12,
   "metadata": {},
   "outputs": [],
   "source": [
    "multiclass_st = multiclass_st.groupby('tweet').max().reset_index()"
   ]
  },
  {
   "cell_type": "code",
   "execution_count": 15,
   "metadata": {},
   "outputs": [],
   "source": [
    "multiclass_st.to_csv('C:/Users/irfanizam/workspace/FYP-Example/FinalFinalFyp/Data1/ArrangedSt.csv', index=False)  "
   ]
  },
  {
   "cell_type": "code",
   "execution_count": null,
   "metadata": {},
   "outputs": [],
   "source": []
  }
 ],
 "metadata": {
  "kernelspec": {
   "display_name": "Python 3",
   "language": "python",
   "name": "python3"
  },
  "language_info": {
   "codemirror_mode": {
    "name": "ipython",
    "version": 3
   },
   "file_extension": ".py",
   "mimetype": "text/x-python",
   "name": "python",
   "nbconvert_exporter": "python",
   "pygments_lexer": "ipython3",
   "version": "3.11.7"
  }
 },
 "nbformat": 4,
 "nbformat_minor": 2
}
