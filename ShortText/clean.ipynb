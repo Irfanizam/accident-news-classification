{
 "cells": [
  {
   "cell_type": "markdown",
   "metadata": {},
   "source": [
    "# 1st Step Clean and Preprocess"
   ]
  },
  {
   "cell_type": "code",
   "execution_count": 2,
   "metadata": {},
   "outputs": [],
   "source": [
    "import pandas as pd\n",
    "import nltk\n",
    "from nltk.corpus import stopwords\n",
    "from nltk.stem import PorterStemmer, SnowballStemmer, LancasterStemmer\n",
    "from nltk.tokenize import word_tokenize\n",
    "from sklearn.feature_extraction.text import CountVectorizer\n",
    "import re"
   ]
  },
  {
   "cell_type": "code",
   "execution_count": 3,
   "metadata": {},
   "outputs": [],
   "source": [
    "# Load CSV file long text\n",
    "# df_lt = dataframe_longtext\n",
    "shorttext_path = 'C:/Users/irfanizam/workspace/FYP-Example/FinalFinalFYP/Data1/ShortText.csv'\n",
    "df_st = pd.read_csv(shorttext_path)"
   ]
  },
  {
   "cell_type": "code",
   "execution_count": 5,
   "metadata": {},
   "outputs": [],
   "source": [
    "# Col selected\n",
    "# st_col = ['tweet', 'relation']"
   ]
  },
  {
   "cell_type": "code",
   "execution_count": 31,
   "metadata": {},
   "outputs": [],
   "source": [
    "# st_selected = df_st[st_col].copy()"
   ]
  },
  {
   "cell_type": "code",
   "execution_count": 36,
   "metadata": {},
   "outputs": [],
   "source": [
    "# Preprocess lt_selected which is long text summary column\n",
    "# def preprocess_text(tweet):\n",
    "    # Convert to lowercase\n",
    "    # tweet = tweet.lower()\n",
    "\n",
    "    # Remove special characters and numbers\n",
    "    # tweet = re.sub(r'[^a-zA-Z\\s]', '', tweet)\n",
    "\n",
    "    # Tokenization\n",
    "    # tokens = word_tokenize(tweet)\n",
    "\n",
    "    # Remove stopwords\n",
    "    # stop_words = set(stopwords.words('english'))\n",
    "    # filtered_tokens = [word for word in tokens if word.isalnum() and word not in stop_words]\n",
    "\n",
    "    # Snowball Stemmer\n",
    "    # snowball_stemmer = SnowballStemmer('english')\n",
    "    # stemmed_tokens = [snowball_stemmer.stem(word) for word in filtered_tokens]\n",
    "    \n",
    "    # return stemmed_tokens\n",
    "\n",
    "# Apply the preprocessing function to lt_summary column\n",
    "# new_lt = New Long Text\n",
    "# st_selected['new_st'] = st_selected['tweet'].apply(preprocess_text)\n"
   ]
  },
  {
   "cell_type": "markdown",
   "metadata": {},
   "source": [
    "## Test pakai 1 line cleaning utk buang tokenization"
   ]
  },
  {
   "cell_type": "code",
   "execution_count": 4,
   "metadata": {},
   "outputs": [],
   "source": [
    "df_st['tweet'] = df_st['tweet'].apply(lambda x: ' '.join([word.lower() for word in word_tokenize(x) if word.isalpha() and word not in stopwords.words('english')]))"
   ]
  },
  {
   "cell_type": "markdown",
   "metadata": {},
   "source": [
    "## Sambung balik sini"
   ]
  },
  {
   "cell_type": "code",
   "execution_count": 5,
   "metadata": {},
   "outputs": [],
   "source": [
    "# Save the selected and preprocessed DF to CSV\n",
    "out_file_path = 'C:/Users/irfanizam/workspace/FYP-Example/FinalFinalFYP/Data1/CleanedSt.csv'\n",
    "df_st.to_csv(out_file_path, index=False)"
   ]
  },
  {
   "cell_type": "code",
   "execution_count": null,
   "metadata": {},
   "outputs": [],
   "source": [
    "# Porter Stemmer\n",
    "# porter_stemmer = PorterStemmer()\n",
    "# stemmed_tokens = [porter_stemmer.stem(word) for word in filtered_tokens]"
   ]
  },
  {
   "cell_type": "code",
   "execution_count": null,
   "metadata": {},
   "outputs": [],
   "source": [
    "# Snowball Stemmer\n",
    "# snowball_stemmer = SnowballStemmer('english')\n",
    "# df_lt['snowball_stemmed_tokens'] = df_lt['filtered_tokens'].apply(lambda x: [snowball_stemmer.stem(word) for word in x])"
   ]
  },
  {
   "cell_type": "code",
   "execution_count": null,
   "metadata": {},
   "outputs": [],
   "source": [
    "# Lancaster Stemmer\n",
    "# lancaster_stemmer = LancasterStemmer()\n",
    "# df_lt['lancaster_stemmed_tokens'] = df_lt['filtered_tokens'].apply(lambda x: [lancaster_stemmer.stem(word) for word in x])"
   ]
  }
 ],
 "metadata": {
  "kernelspec": {
   "display_name": "Python 3",
   "language": "python",
   "name": "python3"
  },
  "language_info": {
   "codemirror_mode": {
    "name": "ipython",
    "version": 3
   },
   "file_extension": ".py",
   "mimetype": "text/x-python",
   "name": "python",
   "nbconvert_exporter": "python",
   "pygments_lexer": "ipython3",
   "version": "3.11.7"
  }
 },
 "nbformat": 4,
 "nbformat_minor": 2
}
